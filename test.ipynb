{
 "cells": [
  {
   "cell_type": "code",
   "execution_count": 1,
   "metadata": {},
   "outputs": [],
   "source": [
    "from langgraph.graph import StateGraph ,START ,END\n",
    "from langchain_core.prompts import PromptTemplate\n",
    "from typing_extensions import TypedDict , Literal\n",
    "import sqlite3\n",
    "from langgraph.checkpoint.sqlite import SqliteSaver\n"
   ]
  },
  {
   "cell_type": "code",
   "execution_count": 2,
   "metadata": {},
   "outputs": [],
   "source": [
    "from pathlib import Path\n",
    "folder_path = Path(\"./state_db\")\n",
    "folder_path.mkdir(parents=True, exist_ok=True)\n",
    "db_path = \"state_db/example.db\"\n",
    "conn = sqlite3.connect(db_path, check_same_thread=False)"
   ]
  },
  {
   "cell_type": "code",
   "execution_count": 3,
   "metadata": {},
   "outputs": [],
   "source": [
    "memory = SqliteSaver(conn)"
   ]
  },
  {
   "cell_type": "code",
   "execution_count": 4,
   "metadata": {},
   "outputs": [],
   "source": [
    "from langchain_groq import ChatGroq\n",
    "import os\n",
    "groq_api_key = os.getenv(\"groq_api_key\")\n",
    "llm=ChatGroq(groq_api_key=groq_api_key,model_name=\"llama-3.1-8b-instant\")"
   ]
  },
  {
   "cell_type": "code",
   "execution_count": 5,
   "metadata": {},
   "outputs": [],
   "source": [
    "class User_details(TypedDict):\n",
    "    name: str\n",
    "    disease: str  \n",
    "    phone_no: str\n",
    "    payment_option: Literal[\"online\", \"offline\"]\n",
    "\n",
    "\n",
    "class Patient_about(TypedDict):\n",
    "    name: str\n",
    "    disease: str  \n",
    "    phone_no: str\n",
    "    payment_option: Literal[\"online\", \"offline\"]\n",
    "    user_prev_details:User_details\n",
    "    user_current_details:User_details\n",
    "    message : str\n",
    "\n"
   ]
  },
  {
   "cell_type": "code",
   "execution_count": 6,
   "metadata": {},
   "outputs": [],
   "source": [
    "retrieval_prompt_template = \"\"\"\n",
    "You are form checker. Review and correct the given details:\n",
    "\n",
    "Previous Form: {user_prev_details}\n",
    "\n",
    "New Details:\n",
    "- Name: {name}\n",
    "- Disease: {disease}\n",
    "- Phone Number: {phone_no}\n",
    "- Payment Option: {payment_option}\n",
    "\n",
    "If any information is missing, refer to the Previous Form.\n",
    "make sure right key has right values in output\n",
    "Verify and validate each detail before moving forward. \"\"\"\n",
    "\n",
    "\n",
    "\n",
    "retrieval_prompt = PromptTemplate.from_template(retrieval_prompt_template)\n",
    "\n",
    "generation_prompt_template = \"\"\"\n",
    "Generate a structured form using the details below.\n",
    "\n",
    "New Details:  \n",
    "- name : {name}  \n",
    "- disease: {disease}  \n",
    "- phone_no: {phone_no}  \n",
    "- payment_option: {payment_option}  \n",
    "\n",
    "\"\"\"\n",
    "\n",
    "\n",
    "\n",
    "generation_prompt = PromptTemplate.from_template(generation_prompt_template)\n",
    "generation_llm = generation_prompt | llm.with_structured_output(User_details)\n",
    "retrieve_data_llm = retrieval_prompt | llm.with_structured_output(User_details)\n",
    "\n",
    "\n",
    "def retrieve_data(state:Patient_about):\n",
    "    print(\"*\"*35)\n",
    "    print(\"retrieve_data\")\n",
    "    print(\"*\"*35)\n",
    "    name = input(\"name of the person\")\n",
    "    disease = input(\"disease of the person\")\n",
    "    phone_no = input(\"phone_no\")\n",
    "    payment_option = input(\"payment_option\")\n",
    "    return {\"name\":name,\"disease\":disease,\"phone_no\":phone_no,\"payment_option\":payment_option}\n",
    "\n",
    "\n",
    "def data_incomplete(state:Patient_about):\n",
    "    print(\"*\"*35)\n",
    "    print(\"data_incomplete\")\n",
    "    print(\"*\"*35)\n",
    "    \n",
    "    name = state.get(\"name\") or \"Not provided\"\n",
    "    disease = state.get(\"disease\") or \"Not provided\"\n",
    "    phone_no = state.get(\"phone_no\") or \"Not provided\"\n",
    "    payment_option = state.get(\"payment_option\") or \"Not provided\"\n",
    "    user_prev_details = state.get(\"user_prev_details\")\n",
    "\n",
    "    print(\"values\",name,disease)\n",
    "   \n",
    "    new_form = retrieve_data_llm.invoke({\"name\":name,\"disease\":disease,\"phone_no\":phone_no,\"payment_option\":payment_option,\"user_prev_details\":user_prev_details})\n",
    "    return {\"user_current_details\":new_form}\n",
    "\n",
    "\n",
    "def data_storing(state:Patient_about):\n",
    "    print(\"*\"*35)\n",
    "    print(\"data_storing\")\n",
    "    print(\"*\"*35)\n",
    "    name = state.get(\"name\",\"\")\n",
    "    disease = state.get(\"disease\",\"\")\n",
    "    phone_no = state.get(\"phone_no\",\"\")\n",
    "    payment_option = state.get(\"payment_option\",\"\")\n",
    "    form = generation_llm.invoke({\"name\":name , \"disease\":disease , \"phone_no\":phone_no , \"payment_option\":payment_option})\n",
    "    return {\"user_current_details\" : form}\n",
    "\n",
    "\n",
    "def check_form(state:Patient_about):\n",
    "    print(\"*\"*35)\n",
    "    print(\"following is your form\")\n",
    "    print(state[\"user_current_details\"])\n",
    "    print(\"*\"*35)\n",
    "    return {\"user_prev_details\" : state[\"user_current_details\"]}\n",
    "\n"
   ]
  },
  {
   "cell_type": "code",
   "execution_count": 7,
   "metadata": {},
   "outputs": [],
   "source": [
    "# conditional edges\n",
    "\n",
    "def check_retrival(state: Patient_about):\n",
    "    print(\"*\"*35)\n",
    "    print(\"check retrival\")\n",
    "    print(\"*\"*35)\n",
    "    name = state.get(\"name\", \"\")\n",
    "    disease = state.get(\"disease\", \"\")\n",
    "    phone_no = state.get(\"phone_no\", \"\")\n",
    "    payment_option = state.get(\"payment_option\", \"\")\n",
    "    if \"\" in (name, disease, phone_no, payment_option):\n",
    "        return \"data_incomplete\"\n",
    "    \n",
    "    return \"data_storing\"\n",
    "\n",
    "\n",
    "def data_verify(state:Patient_about):    \n",
    "    option = input(\"a for again c for continue\")\n",
    "    if option == \"c\":\n",
    "        return END\n",
    "    else: \n",
    "        return \"retrieve_data\"\n"
   ]
  },
  {
   "cell_type": "code",
   "execution_count": 8,
   "metadata": {},
   "outputs": [
    {
     "data": {
      "image/png": "[encoded data removed]",
      "text/plain": [
       "<langgraph.graph.state.CompiledStateGraph object at 0x000001B6FA0368F0>"
      ]
     },
     "execution_count": 8,
     "metadata": {},
     "output_type": "execute_result"
    }
   ],
   "source": [
    "workflow = StateGraph(Patient_about)\n",
    "# initializing nodes\n",
    "\n",
    "# Nodes\n",
    "workflow.add_node(\"retrieve_data\",retrieve_data)\n",
    "workflow.add_node(\"data_incomplete\",data_incomplete)\n",
    "workflow.add_node(\"data_storing\",data_storing)\n",
    "workflow.add_node(\"check_form\",check_form)\n",
    "\n",
    "# edges\n",
    "workflow.add_edge(START,\"retrieve_data\")\n",
    "workflow.add_conditional_edges(\"retrieve_data\",check_retrival,[\"data_incomplete\",\"data_storing\"])\n",
    "workflow.add_edge(\"data_incomplete\",\"check_form\")\n",
    "workflow.add_edge(\"data_storing\",\"check_form\")\n",
    "workflow.add_conditional_edges(\"check_form\",data_verify,[\"retrieve_data\",END])\n",
    "\n",
    "\n",
    "graph = workflow.compile(checkpointer=memory)\n",
    "graph"
   ]
  },
  {
   "cell_type": "code",
   "execution_count": 12,
   "metadata": {},
   "outputs": [
    {
     "name": "stdout",
     "output_type": "stream",
     "text": [
      "***********************************\n",
      "retrieve_data\n",
      "***********************************\n",
      "***********************************\n",
      "check retrival\n",
      "***********************************\n",
      "***********************************\n",
      "data_incomplete\n",
      "***********************************\n",
      "values khush Not provided\n",
      "***********************************\n",
      "following is your form\n",
      "{'name': 'khush', 'disease': 'headache', 'phone_no': '9818', 'payment_option': 'offline'}\n",
      "***********************************\n",
      "***********************************\n",
      "retrieve_data\n",
      "***********************************\n",
      "***********************************\n",
      "check retrival\n",
      "***********************************\n",
      "***********************************\n",
      "data_incomplete\n",
      "***********************************\n",
      "values shefali Not provided\n",
      "***********************************\n",
      "following is your form\n",
      "{'name': 'shefali', 'disease': 'headache', 'phone_no': '9818', 'payment_option': 'offline'}\n",
      "***********************************\n"
     ]
    }
   ],
   "source": [
    "config = {\"configurable\": {\"thread_id\": \"1\"}}\n",
    "result = graph.invoke({\"name\":\"\"} ,config=config)"
   ]
  },
  {
   "cell_type": "code",
   "execution_count": 11,
   "metadata": {},
   "outputs": [
    {
     "data": {
      "text/plain": [
       "{'name': 'akshat',\n",
       " 'disease': 'headache',\n",
       " 'phone_no': '',\n",
       " 'payment_option': '',\n",
       " 'user_prev_details': {'name': 'akshat',\n",
       "  'disease': 'headache',\n",
       "  'phone_no': '9818',\n",
       "  'payment_option': 'online'},\n",
       " 'user_current_details': {'name': 'akshat',\n",
       "  'disease': 'headache',\n",
       "  'phone_no': '9818',\n",
       "  'payment_option': 'online'}}"
      ]
     },
     "execution_count": 11,
     "metadata": {},
     "output_type": "execute_result"
    }
   ],
   "source": [
    "result"
   ]
  },
  {
   "cell_type": "code",
   "execution_count": null,
   "metadata": {},
   "outputs": [],
   "source": []
  }
 ],
 "metadata": {
  "kernelspec": {
   "display_name": "lc",
   "language": "python",
   "name": "python3"
  },
  "language_info": {
   "codemirror_mode": {
    "name": "ipython",
    "version": 3
   },
   "file_extension": ".py",
   "mimetype": "text/x-python",
   "name": "python",
   "nbconvert_exporter": "python",
   "pygments_lexer": "ipython3",
   "version": "3.10.16"
  }
 },
 "nbformat": 4,
 "nbformat_minor": 2
}
